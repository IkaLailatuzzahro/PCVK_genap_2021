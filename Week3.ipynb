{
  "nbformat": 4,
  "nbformat_minor": 0,
  "metadata": {
    "colab": {
      "name": "Week3.ipynb",
      "provenance": [],
      "authorship_tag": "ABX9TyOOAJ3z6SCqnDFsXTkBUwH4",
      "include_colab_link": true
    },
    "kernelspec": {
      "name": "python3",
      "display_name": "Python 3"
    }
  },
  "cells": [
    {
      "cell_type": "markdown",
      "metadata": {
        "id": "view-in-github",
        "colab_type": "text"
      },
      "source": [
        "<a href=\"https://colab.research.google.com/github/IkaLailatuzzahro/PCVK_genap_2021/blob/main/Week3.ipynb\" target=\"_parent\"><img src=\"https://colab.research.google.com/assets/colab-badge.svg\" alt=\"Open In Colab\"/></a>"
      ]
    },
    {
      "cell_type": "code",
      "metadata": {
        "id": "DzSQqu1pXcGd"
      },
      "source": [
        "from google.colab import drive\r\n",
        "\r\n",
        "drive.mount('/content/drive')\r\n",
        "\r\n"
      ],
      "execution_count": null,
      "outputs": []
    },
    {
      "cell_type": "code",
      "metadata": {
        "id": "jj6IkZwnYitT"
      },
      "source": [
        "print(' Mengubah tinngkat kecerahan citra')\r\n",
        "print('----------------------------------')\r\n",
        "try:\r\n",
        "  brightness = int(input('Masukkan nilai kecerahan: '))\r\n",
        "except ValueError:\r\n",
        "  print('Error, not a number')\r\n",
        "\r\n",
        "original = cv.imread('/content/drive/MyDrive/pcvk/female.tiff')\r\n",
        "brightness_image = np.zeros(original.shape,original.dtype)\r\n",
        "\r\n",
        "#akses per piksel\r\n",
        "for y in range(original.shape[0]);\r\n",
        "  for x in range(original.shape[1]);\r\n",
        "    for c in range(original.shape[2]);\r\n",
        "      brightness_image[x,y,c] = np.clip(original[x,y,c] + brightness, 0, 255)\r\n",
        "\r\n",
        "#cara simpel tanpa for loop\r\n",
        "#brightness_image = cv.convertScaleAbs(original, beta-brigthness)\r\n",
        "\r\n",
        "final_frame = cv.hconcat((original, brightness_image))\r\n",
        "cv2_imshow(final_frame)"
      ],
      "execution_count": null,
      "outputs": []
    }
  ]
}